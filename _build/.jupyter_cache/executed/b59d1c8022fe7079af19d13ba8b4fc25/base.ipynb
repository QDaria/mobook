{
 "cells": [
  {
   "cell_type": "code",
   "execution_count": 1,
   "id": "28ce3dac",
   "metadata": {},
   "outputs": [
    {
     "data": {
      "text/plain": [
       "'here is some text!'"
      ]
     },
     "metadata": {
      "scrapbook": {
       "mime_prefix": "",
       "name": "cool_text"
      }
     },
     "output_type": "display_data"
    }
   ],
   "source": [
    "from myst_nb import glue\n",
    "my_variable = \"here is some text!\"\n",
    "glue(\"cool_text\", my_variable)"
   ]
  },
  {
   "cell_type": "code",
   "execution_count": 2,
   "id": "abff4cf2",
   "metadata": {
    "tags": [
     "hide-cell"
    ]
   },
   "outputs": [],
   "source": [
    "# Simulate some data and bootstrap the mean of the data\n",
    "import numpy as np\n",
    "import pandas as pd\n",
    "import matplotlib.pyplot as plt\n",
    "\n",
    "n_points = 10000\n",
    "n_boots = 1000\n",
    "mean, sd = (3, .2)\n",
    "data = sd*np.random.randn(n_points) + mean\n",
    "bootstrap_indices = np.random.randint(0, n_points, n_points*n_boots).reshape((n_boots, n_points))"
   ]
  },
  {
   "cell_type": "code",
   "execution_count": 3,
   "id": "7b20b6aa",
   "metadata": {},
   "outputs": [
    {
     "data": {
      "text/plain": [
       "2.9970866961828304"
      ]
     },
     "metadata": {
      "scrapbook": {
       "mime_prefix": "",
       "name": "boot_mean"
      }
     },
     "output_type": "display_data"
    },
    {
     "data": {
      "text/plain": [
       "2.984557691678867"
      ]
     },
     "metadata": {
      "scrapbook": {
       "mime_prefix": "",
       "name": "boot_clo"
      }
     },
     "output_type": "display_data"
    },
    {
     "data": {
      "text/plain": [
       "3.009533483792848"
      ]
     },
     "metadata": {
      "scrapbook": {
       "mime_prefix": "",
       "name": "boot_chi"
      }
     },
     "output_type": "display_data"
    }
   ],
   "source": [
    "# Calculate the mean of a bunch of random samples\n",
    "means = data[bootstrap_indices].mean(0)\n",
    "# Calculate the 95% confidence interval for the mean\n",
    "clo, chi = np.percentile(means, [2.5, 97.5])\n",
    "\n",
    "# Store the values in our notebook\n",
    "glue(\"boot_mean\", means.mean())\n",
    "glue(\"boot_clo\", clo)\n",
    "glue(\"boot_chi\", chi)"
   ]
  },
  {
   "cell_type": "code",
   "execution_count": 4,
   "id": "020164a4",
   "metadata": {},
   "outputs": [
    {
     "data": {
      "application/papermill.record/text/plain": "3.009533483792848"
     },
     "metadata": {
      "scrapbook": {
       "mime_prefix": "application/papermill.record/",
       "name": "boot_chi_notdisplayed"
      }
     },
     "output_type": "display_data"
    }
   ],
   "source": [
    "glue(\"boot_chi_notdisplayed\", chi, display=False)"
   ]
  },
  {
   "cell_type": "code",
   "execution_count": 5,
   "id": "481ba9b0",
   "metadata": {},
   "outputs": [
    {
     "data": {
      "application/papermill.record/image/png": "iVBORw0KGgoAAAANSUhEUgAAAX0AAAEICAYAAACzliQjAAAAOXRFWHRTb2Z0d2FyZQBNYXRwbG90bGliIHZlcnNpb24zLjUuMSwgaHR0cHM6Ly9tYXRwbG90bGliLm9yZy/YYfK9AAAACXBIWXMAAAsTAAALEwEAmpwYAAAeYklEQVR4nO3de7gcVZnv8e/PgBAE5JKAIReDGnIIzDHinogwD5OZMEMUeMARJPoAwUGjCCqKRxMOCiqRHAXl4AxIZmC4OUAUPIRLVBKNjMMlBghCiGiGRLJNDAFBgihDwnv+WGtLs9N77963rtpdv8/z1NPVq1ZVvbV79durV1XXVkRgZmbV8JqiAzAzs+Zx0jczqxAnfTOzCnHSNzOrECd9M7MKcdI3M6sQJ30bciSFpLfk+W9J+vwAbXecpOclDcvPl0r60EBsO29vkaSZA7W9wSBpqqT2ouOwweOkP0RIWivpjzkpPSPpdkljB2C743MS3a7B+n9OuGUQER+NiC/3VC///Q7vYVtPRMTOEbG1v3FJOk/SdZ22/66IuLq/2y6SpEMkLZO0WdLPJf1VzbKpkl7ObbRjmlmz/H9JekrSI5IOrCk/VNL/a2Df+0n6Tt7G7/P+Py1pWG/bcZU56Q8tR0fEzsAoYCPwzYLj2cZQfdMN1bibSdIewELga8BuwFeBWyXtXlNtff7g7JiuzuuOAk4F3gR8C5iXy7cDLgLO7GHfbwbuA9YBfxERrweOB9qAXQbqGKvASX8Iiog/Ad8FJnWUSXq9pGskbZL0a0nnSHpNXvaa/PzXkp7M9V6fV70rPz6be2bvlPQWST/JvamnJN2Yt9NR96Fc94SO4QBJn5P0W+DfJO0u6bYcyzN5fkxNrEslXZB7jL+XdEtOKHXlHuIGSesl/WOnZVdJOj/Pj8j7elbS7yT9Rz72a4FxpAT1vKTP1vQMT5X0BPCjLnqLb64XZ71hkI5vE5KmA2cDJ+T9PVRz3B/q6TWpiWOmpCfya/C/u/n7HCnpQUnPSVon6byaZd1uS9Lw/Dd8RtKjwF92tR/gEGBjRHwnIrZGxHXAJuAfulmnwzjgwYh4DlhMSv6Qkv3CiFjbw/pfBO6OiE9HxAaAiHgsIj4QEc82sH/LnPSHIEk7AScA99YUfxN4PenN9NfAycAH87JT8vQ3efnOwD/lZYflx91yz+we4MvAD4HdgTF520RER9235ro35udvAPYA3gjMIrWrf8vPxwF/rNlfh5OBfwT2AbYAl3RxrNOBzwB/B0wAuhuiOQtoB0YCe5MSb0TEScAT5G9KEfHVmnX+GtgfOKKLbTYUZ62I+D7wFeDGvL+31ql2Cl2/Jh3+CpgITAO+IGn/Lnb5hxznbsCRwGmSjm1wW+cCb87TEUB35xyUp85lB9Y830vSRklrJH1D0uty+WrgLyTtRnoNVyoNT84ALuxmnx0OJ3V0rL8iwtMQmIC1wPPAs6Tks570NRdgGPAiMKmm/keApXl+CfCxmmUTgZeA7YDxQADb1Sy/BpgPjKkTRwBvqXk+FfhvYMduYp8MPFPzfCkwr+b5pLyNYXXWvbJT3f1qYwCuAs7P818CbqmNr9Pf7/Ca5x3H/aY6Zdv1FGc+7vau9gGcB1zXaflS4EO9eE3G1CxfBsxosK1cDHyj0zHV3RbwODC9ZtmszsdVs2xPUvt7P7A96QPiZeDyvPwN+W/0GmBf0rfIy2vWfz/wALCI1CG4mfQhdALwk/zabdPm8rov1cZZZ/mrXjtPXU/u6Q8tx0bEbsAOwBnATyS9ARgBvBb4dU3dXwOj8/w+dZZtR+oN1/NZUg9umaSVnYdU6tgUacgJSN9EJF2ehy6eI735d1O+KiZb1yme7fNxdLZPnbpd+RqpR/lDSY9Lmt1D3J3j6Gl5d3H2ViOvyW9r5l8gfRvYhqR3SPpxHk77PfDROjF2ta2G/74R8TRwDPBp0jml6aShmva8/LcR8WhEvBwRa0jt6Lia9a+PiIMi4l2kbwcvAg+SevpHA9+h617/06RzWdZPTvpDUKTx1JuBraSv7U+RekJvrKk2DvhNnl9fZ9kW0ht3m9us5jfvhyNiH9I3hkvV/RU7nbdxFqnn+o6I2JVXhpBqhwZqrzwal+N/qs62N9SpWz+IiM0RcVZEvImURD4taVoXMXYVe2ddxfkHYKeOBfkDbWQvttvda9Jb/046wTo20gnOb7HtMExXGv77AkTETyLiLyNiD+Ak0uu8rKvq9eKQNJw0/HUWachuXaSx/p8B/7OLbS0G3ttdbNYYJ/0hSMkxpDH3VZEuMVwAzJW0i6Q3knpjHZcMXg98StK+knbmlfHmLaQTcS/zyok1JB1fc+L1GdKbt+Myxo21dbuwC2kc/9l84vPcOnVOlDQpn5/4EvDdqH+p5ALglJq69bbVEfdRSiehBTyXY+5N3PV0FecvgR3zSdTtgXNI38A6bATGK59Mr6O716S3dgF+FxF/kjQF+EAv1l0AzFE6+T4G+Hh3lSW9TdL2knYl9crbI+IHedlUpd86KI/XzyMN2XR2DnBVRKwnnWuZKGlv0vmNx7vY9bnAIZK+lr/dkl/r6/J5AmuQk/7Qcquk50kJbS4wMyJW5mUfJ/U+Hwd+Sur9XZmXXQlcSxpmWQP8KdcnIl7I2/pPpateDiZdwXFf3tdC4JP56zqkseqrc933dRHnxcBwUo/4XuD7depcSxqP/y2wI/CJehuKiEV5ez8iDd38qIt9Quo1Liad+7gHuDQiluZlFwDn5Lg/0802GoozIn4PfAz4V9I3qj+Qhzmy7+THpyU9UGe7Xb4mffAx4EuSNgNfICXyRn2RNKSzhnTy/toe6n+W9LquIw23vKdm2UGkv/sfgLuBR+j0ukqaCPw9r1wcsIH04bAy151Tb6cR8V/AO0lj9yvzMNZNwHJgcyMHaonySRCzppG0lHSS81+LjsWsatzTNzOrECd9M7MK6THpS9pR6ReJD+XL976Yy/eQdKekX+XH3WvWmSNptaTHJB1RU/52SQ/nZZfkE25WMREx1UM7ZsVopKf/IvC3kX5VOBmYnk/2zQaWRMQE0g9NZgNImkT6ld0BpOt4L625Pvsy0o8/JuRp+sAdipmZ9aTHm0xFOtP7fH66fZ6C9CONqbn8atKvDT+Xy2+IiBeBNZJWA1MkrQV2jfQzfyRdAxxL+nVel0aMGBHjx4/vxSHZnz32WHqcOLHYOKxa3O5K4f77738qIkZ2Lm/0drrDgPuBtwD/HBH3Sdo7Xrnx0QZJe+Xqo3n1PWHac9lLvPqSto7yevubRfpGwLhx41i+fHkjYVpnU6emx6VLi4zCqsbtrhQk1f11dUMncvMvQCeTbr41RTX3wq63r3qb6Ka83v7mR0RbRLSNHLnNB5WZmfVRr+4hHhHP5muspwMbJY3KvfxRwJO5Wjuv/ln3GNJPztvzfOdyGyznnFN0BFZFbnel1sjVOyM7fuac75lxOPAL0i81O27DOpNXfm69EJghaQdJ+5JO2C7LQ0GbJR2cr9o5mfo/0baBcvjhaTJrJre7Umukpz+K9LP7YaQPiQURcZuke4AFkk4l3T/jeICIWClpAfAo6QZSp9fcU+U00k/ah5NO4HZ7Etf6acWK9Dh5cpFRWNW43ZVa6W/D0NbWFj6R20c+oWZFcLsrBUn3R0Rb53L/ItfMrEKc9M3MKsRJ38ysQpz0zcwqpFfX6dsQ85WvFB1BU4yffXsh+10778hC9lt6FWl3Q5WTfis75JCiI7AqcrsrNQ/vtLK7706TWTO53ZWae/qt7Oyz06Ovl7ZmcrsrNff0zcwqxEnfzKxCnPTNzCrESd/MrEJ8IreVXXxx0RFYFbndlZqTfivzrW2tCG53pebhnVa2eHGazJrJ7a7U3NNvZeefnx79X4ysmdzuSs09fTOzCnHSNzOrECd9M7MKcdI3M6sQn8htZZdfXnQEVkVud6XmpN/KJk4sOgKrIre7UvPwTiu79dY0mTWT212puaffyi66KD0efXSxcVi1uN2Vmnv6ZmYV4qRvZlYhTvpmZhXS45i+pLHANcAbgJeB+RHxfyWdB3wY2JSrnh0Rd+R15gCnAluBT0TED3L524GrgOHAHcAnIyIG8oDMmmX87NsL2/faeUcWtm8b2ho5kbsFOCsiHpC0C3C/pDvzsm9ExIW1lSVNAmYABwD7AIsl7RcRW4HLgFnAvaSkPx1YNDCHYtu49tqiI7AqcrsrtR6TfkRsADbk+c2SVgGju1nlGOCGiHgRWCNpNTBF0lpg14i4B0DSNcCxOOkPnrFji47AqsjtrtR6NaYvaTzwNuC+XHSGpJ9LulLS7rlsNLCuZrX2XDY6z3cur7efWZKWS1q+adOmelWsETfemCazZnK7K7WGk76knYGbgDMj4jnSUM2bgcmkbwIXdVSts3p0U75tYcT8iGiLiLaRI0c2GqJ1dtllaTJrJre7Umso6UvanpTwvx0RNwNExMaI2BoRLwP/AkzJ1duB2u93Y4D1uXxMnXIzM2uSHpO+JAFXAKsi4us15aNqqr0HeCTPLwRmSNpB0r7ABGBZPjewWdLBeZsnA7cM0HGYmVkDGrl651DgJOBhSSty2dnA+yVNJg3RrAU+AhARKyUtAB4lXflzer5yB+A0XrlkcxE+iWtm1lSNXL3zU+qPx9/RzTpzgbl1ypcDB/YmQDMzGzi+4Vor++53i47AqsjtrtSc9FvZiBFFR2BV5HZXar73Tiu76qo0mTWT212pOem3Mr/5rAhud6XmpG9mViFO+mZmFeKkb2ZWIU76ZmYV4ks2W9kdXf5+zmzwuN2VmpN+K9tpp6IjsCpyuys1D++0sksvTZNZM7ndlZqTfitbsCBNZs3kdldqTvpmZhXipG9mViFO+mZmFeKkb2ZWIb5ks5UtXVp0BFZFbnel5p6+mVmFOOm3sgsvTJNZM7ndlZqTfiu77bY0mTWT212pOembmVWIk76ZWYU46ZuZVYgv2Wxlw4cXHYFVkdtdqTnpt7JFi4qOwKrI7a7UPLxjZlYhTvqt7MtfTpNZM7ndlVqPSV/SWEk/lrRK0kpJn8zle0i6U9Kv8uPuNevMkbRa0mOSjqgpf7ukh/OySyRpcA7LAFiyJE1mzeR2V2qN9PS3AGdFxP7AwcDpkiYBs4ElETEBWJKfk5fNAA4ApgOXShqWt3UZMAuYkKfpA3gsZmbWgx6TfkRsiIgH8vxmYBUwGjgGuDpXuxo4Ns8fA9wQES9GxBpgNTBF0ihg14i4JyICuKZmHTMza4JejelLGg+8DbgP2DsiNkD6YAD2ytVGA+tqVmvPZaPzfOdyMzNrkoYv2ZS0M3ATcGZEPNfNcHy9BdFNeb19zSINAzFu3LhGQ7TO9tyz6AisitzuSq2hpC9pe1LC/3ZE3JyLN0oaFREb8tDNk7m8HRhbs/oYYH0uH1OnfBsRMR+YD9DW1lb3g8EacNNNRUdgVeR2V2qNXL0j4ApgVUR8vWbRQmBmnp8J3FJTPkPSDpL2JZ2wXZaHgDZLOjhv8+SadczMrAka6ekfCpwEPCxpRS47G5gHLJB0KvAEcDxARKyUtAB4lHTlz+kRsTWvdxpwFTAcWJQnGyxz5qTHCy4oNg6rFre7Uusx6UfET6k/Hg8wrYt15gJz65QvBw7sTYDWD/fcU3QEVkVud6XmX+SamVWIk76ZWYX4Lps2IMbPvr3oEMysAU76rWzMmJ7rmA00t7tSc9JvZdddV3QEVkVud6XmMX0zswpx0m9lZ56ZJrNmcrsrNQ/vtLIVK4qOwKrI7a7U3NM3M6sQJ30zswpx0jczqxCP6bey/fYrOgKrIre7UnPSb2Xz5xcdgVWR212peXjHzKxCnPRb2axZaTJrJre7UvPwTiv75S+LjsCqyO2u1NzTNzOrECd9M7MKcdI3M6sQj+m3ssmTi47AqsjtrtSc9FvZxRcXHYFVkdtdqXl4x8ysQpz0W9mJJ6bJrJnc7krNwzutrL296AisitzuSs09fTOzCnHSNzOrECd9M7MK6THpS7pS0pOSHqkpO0/SbyStyNO7a5bNkbRa0mOSjqgpf7ukh/OySyRp4A/HXuWd70yTWTO53ZVaIydyrwL+CbimU/k3IuLC2gJJk4AZwAHAPsBiSftFxFbgMmAWcC9wBzAdWNSv6K17F1xQdARWRW53pdZjTz8i7gJ+1+D2jgFuiIgXI2INsBqYImkUsGtE3BMRQfoAObaPMZuZWR/1Z0z/DEk/z8M/u+ey0cC6mjrtuWx0nu9cboPpve9Nk1kzud2VWl+T/mXAm4HJwAbgolxeb5w+uimvS9IsScslLd+0aVMfQzSefjpNZs3kdldqfUr6EbExIrZGxMvAvwBT8qJ2YGxN1THA+lw+pk55V9ufHxFtEdE2cuTIvoRoZmZ19Cnp5zH6Du8BOq7sWQjMkLSDpH2BCcCyiNgAbJZ0cL5q52Tgln7EbWZmfdDj1TuSrgemAiMktQPnAlMlTSYN0awFPgIQESslLQAeBbYAp+crdwBOI10JNJx01Y6v3DEza7Iek35EvL9O8RXd1J8LzK1Tvhw4sFfRWf9Mm1Z0BFZFbnel5huutbLPf77oCKyK3O5KzbdhMDOrECf9Vvaud6XJrJnc7krNwzut7I9/LDoCqyK3u1JzT9/MrEKc9M3MKsRJ38ysQjym38qOOqroCKyK3O5KzUm/lX3mM0VHYFXkdldqHt4xM6sQJ/1WNnVqmsyaye2u1Jz0zcwqxEnfzKxCnPTNzCrEV++YDUHjZ99eyH7XzjuykP3awHHSb2Xve1/REVgVud2VmpN+K/vYx4qOwKrI7a7UPKbfyl54IU1mzeR2V2ru6beyd787PS5dWmgYVjFud6Xmnr6ZWYU46ZuZVYiTvplZhTjpm5lViE/ktrJTTik6Aqsit7tSc9JvZX7zWRHc7krNwzut7Kmn0mTWTG53peaefis77rj06OulrZnc7krNPX0zswrpMelLulLSk5IeqSnbQ9Kdkn6VH3evWTZH0mpJj0k6oqb87ZIezssukaSBPxwzM+tOIz39q4DpncpmA0siYgKwJD9H0iRgBnBAXudSScPyOpcBs4AJeeq8TTMzG2Q9Jv2IuAv4XafiY4Cr8/zVwLE15TdExIsRsQZYDUyRNArYNSLuiYgArqlZx8zMmqSvJ3L3jogNABGxQdJeuXw0cG9NvfZc9lKe71xel6RZpG8FjBs3ro8hGqedVnQEVkVud6U20Ffv1Bunj27K64qI+cB8gLa2ti7rWQ9OOKHoCKyK3O5Kra9X72zMQzbkxydzeTswtqbeGGB9Lh9Tp9wG07p1aTJrJre7Uutr0l8IzMzzM4FbaspnSNpB0r6kE7bL8lDQZkkH56t2Tq5ZxwbLSSelyayZ3O5KrcfhHUnXA1OBEZLagXOBecACSacCTwDHA0TESkkLgEeBLcDpEbE1b+o00pVAw4FFeTIzsybqMelHxPu7WDSti/pzgbl1ypcDB/YqOjMzG1D+Ra6ZWYU46ZuZVYhvuNbKzjqr6AisitzuSs1Jv5UdfXTREVgVud2Vmod3Wtljj6XJrJnc7krNPf1W9pGPpEff19yaye2u1NzTNzOrECd9M7MKcdI3M6sQj+m3mPGzb//z/A2PPw3AjJoyM6s2J/0W9s1DZhQdglXROecUHYF1w0m/hf3n+MlFh2BVdPjhRUdg3fCYfgubtPFxJm18vOgwrGpWrEiTlZJ7+i3sC0vmAzDjA/MKjsQq5cwz06Ov0y8l9/TNzCrESd/MrEKc9M3MKsRJ38ysQnwit4V99bCZPVcyG2hf+UrREVg3nPRb2ANj9i86BKuiQw4pOgLrhod3WthB7as4qH1V0WFY1dx9d5qslNzTb2GfvetqwNfpW5OdfXZ69HX6peSevplZhTjpm5lViJO+mVmFOOmbmVWIT+S2sC9Nm1V0CFZFF19cdATWjX4lfUlrgc3AVmBLRLRJ2gO4ERgPrAXeFxHP5PpzgFNz/U9ExA/6s3/r3qN7v6noEKyKJk8uOgLrxkAM7/xNREyOiLb8fDawJCImAEvycyRNAmYABwDTgUslDRuA/VsXDl27gkPXrig6DKuaxYvTZKU0GMM7xwBT8/zVwFLgc7n8hoh4EVgjaTUwBbhnEGIw4ON33wD4P2hZk51/fnr0f9Aqpf729AP4oaT7JXUMIO8dERsA8uNeuXw0sK5m3fZctg1JsyQtl7R806ZN/QzRzMw69Lenf2hErJe0F3CnpF90U1d1yqJexYiYD8wHaGtrq1vHzMx6r189/YhYnx+fBL5HGq7ZKGkUQH58MldvB8bWrD4GWN+f/ZuZWe/0OelLep2kXTrmgb8HHgEWAh339J0J3JLnFwIzJO0gaV9gArCsr/s3M7Pe68/wzt7A9yR1bOffI+L7kn4GLJB0KvAEcDxARKyUtAB4FNgCnB4RW/sVvXXr7CPOKDoEq6LLLy86AutGn5N+RDwOvLVO+dPAtC7WmQvM7es+rXce33NM0SFYFU2cWHQE1g3fhqGFTVt9H9NW31d0GFY1t96aJisl34ahhX142fcAWPKWdxQciVXKRRelx6OPLjYOq8tJ38waNn727T3WueHxpwGY0UDdRq2dd+SAbavqPLxjZlYhTvpmZhXipG9mViEe029hnzrqrKJDsApyuys3J/0WtmHXkUWHYBXkdlduHt5pYUetuoujVt1VdBhWMW535eaefgs78cE7ALht/8MKjsSqxO2u3NzTNzOrECd9M7MKcdI3M6sQJ30zswrxidwWdtqxc4oOwSrI7a7cnPRb2DM7vb7oEKyC3O7KzcM7Ley4hxdz3MOLiw7DKsbtrtyc9FuY33xWBLe7cvPwziBo5J7jZmZFcE/fzKxCnPTNzCrESd/MrEI8pt/CTjn+vKJDsApyuys3J/0W9qftdyw6BKsgt7ty8/BOCzvxgds58QFfSWTN5XZXbu7pt7CjfvEfAFx30JEFR2JVMhjtrsjLoNfOa633j3v6ZmYV0vSkL2m6pMckrZY0u9n7NzOrsqYO70gaBvwz8HdAO/AzSQsj4tHB2J9/GWtm9mrNHtOfAqyOiMcBJN0AHAMMStI3M+uvojqPg3UuQRExKBuuuzPpOGB6RHwoPz8JeEdEnNGp3ixgVn46EXisaUEOrhHAU0UHUZAqHztU+/h97MV4Y0SM7FzY7J6+6pRt86kTEfOB+YMfTnNJWh4RbUXHUYQqHztU+/h97OU69mafyG0HxtY8HwOsb3IMZmaV1eyk/zNggqR9Jb0WmAEsbHIMZmaV1dThnYjYIukM4AfAMODKiFjZzBgK1nJDVr1Q5WOHah+/j71Emnoi18zMiuVf5JqZVYiTvplZhTjp95OksZJ+LGmVpJWSPlmnzu6Svifp55KWSTqwZtmn8nqPSLpe0pC6L+0AHP8n87GvlHRmU4PvJ0k75uN5KMf/xTp1JOmSfNuRn0s6qGbZkL4lyQAc/5WSnpT0SHMj77/+HHsj75lBFRGe+jEBo4CD8vwuwC+BSZ3qfA04N8//D2BJnh8NrAGG5+cLgFOKPqYmHv+BwCPATqSLChYDE4o+pl4cu4Cd8/z2wH3AwZ3qvBtYlOseDNyXy4cB/wW8CXgt8FDnv1vZp/4cf152GHAQ8EjRx9Lk177H98xgTu7p91NEbIiIB/L8ZmAVKZnXmgQsyXV+AYyXtHdeth0wXNJ2pOQ3pH630M/j3x+4NyJeiIgtwE+A9zQt+H6K5Pn8dPs8db4y4hjgmlz3XmA3SaOouSVJRPw30HFLkiGjn8dPRNwF/K5pAQ+g/hx7g++ZQeOkP4AkjQfeRvrUr/UQ8A+5zhTgjcCYiPgNcCHwBLAB+H1E/LBpAQ+w3h4/qZd/mKQ9Je1E6hmNZQiRNEzSCuBJ4M6I6Hzso4F1Nc/bc1lX5UNKP45/yBuIY+/mPTNonPQHiKSdgZuAMyPiuU6L5wG75wbyceBBYIuk3Um9gX2BfYDXSTqxeVEPnL4cf0SsAv4PcCfwfdKHw5amBT0AImJrREwmfYhNqT1fkXV165GGbklSdv04/iGvv8few3tm0DjpDwBJ25NevG9HxM2dl0fEcxHxwdxATgZGksbyDwfWRMSmiHgJuBk4pHmRD4x+HD8RcUVEHBQRh5G+6v+qeZEPnIh4FlgKTO+0qKtbj7TULUn6cPwtoy/H3tN7ZjA56feTJAFXAKsi4utd1Nkt33YC4EPAXfmT/QngYEk75e1MI43vDRn9PH4k7ZUfx5GGgK4f/KgHhqSRknbL88NJH+K/6FRtIXByvpLjYNIQ3gZa4JYk/Tz+Ia0/x97Ie2Yw+X/k9t+hwEnAw3n4AuBsYBxARHyLdMLyGklbSf874NS87D5J3wUeIA1rPEgJf7bdgz4ff3aTpD2Bl4DTI+KZZgU+AEYBVyv9c6DXAAsi4jZJH4U/H/sdpHMVq4EXgA/mZa1wS5I+Hz+ApOuBqcAISe2kK7yuaO4h9Fl/jr3ueyYi7mhG4L4Ng5lZhXh4x8ysQpz0zcwqxEnfzKxCnPTNzCrESd/MrEKc9M3MKsRJ38ysQv4/6POXltvLYesAAAAASUVORK5CYII=\n",
      "application/papermill.record/text/plain": "<Figure size 432x288 with 1 Axes>"
     },
     "metadata": {
      "scrapbook": {
       "mime_prefix": "application/papermill.record/",
       "name": "boot_fig"
      }
     },
     "output_type": "display_data"
    },
    {
     "data": {
      "application/papermill.record/image/png": "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\n",
      "application/papermill.record/text/plain": "<Figure size 432x144 with 1 Axes>"
     },
     "metadata": {
      "scrapbook": {
       "mime_prefix": "application/papermill.record/",
       "name": "sorted_means_fig"
      }
     },
     "output_type": "display_data"
    },
    {
     "data": {
      "image/png": "[encoded data removed]",
      "text/plain": [
       "<Figure size 432x288 with 1 Axes>"
      ]
     },
     "metadata": {
      "needs_background": "light"
     },
     "output_type": "display_data"
    },
    {
     "data": {
      "image/png": "[encoded data removed]",
      "text/plain": [
       "<Figure size 432x144 with 1 Axes>"
      ]
     },
     "metadata": {
      "needs_background": "light"
     },
     "output_type": "display_data"
    }
   ],
   "source": [
    "# Visualize the histogram with the intervals\n",
    "fig, ax = plt.subplots()\n",
    "ax.hist(means)\n",
    "for ln in [clo, chi]:\n",
    "    ax.axvline(ln, ls='--', c='r')\n",
    "ax.set_title(\"Bootstrap distribution and 95% CI\")\n",
    "\n",
    "# And a wider figure to show a timeseries\n",
    "fig2, ax = plt.subplots(figsize=(6, 2))\n",
    "ax.plot(np.sort(means), lw=3, c='r')\n",
    "ax.set_axis_off()\n",
    "\n",
    "glue(\"boot_fig\", fig, display=False)\n",
    "glue(\"sorted_means_fig\", fig2, display=False)"
   ]
  },
  {
   "cell_type": "code",
   "execution_count": 6,
   "id": "400cc4a9",
   "metadata": {},
   "outputs": [
    {
     "data": {
      "text/html": [
       "<div>\n",
       "<style scoped>\n",
       "    .dataframe tbody tr th:only-of-type {\n",
       "        vertical-align: middle;\n",
       "    }\n",
       "\n",
       "    .dataframe tbody tr th {\n",
       "        vertical-align: top;\n",
       "    }\n",
       "\n",
       "    .dataframe thead th {\n",
       "        text-align: right;\n",
       "    }\n",
       "</style>\n",
       "<table border=\"1\" class=\"dataframe\">\n",
       "  <thead>\n",
       "    <tr style=\"text-align: right;\">\n",
       "      <th></th>\n",
       "      <th>first</th>\n",
       "      <th>second</th>\n",
       "      <th>third</th>\n",
       "    </tr>\n",
       "  </thead>\n",
       "  <tbody>\n",
       "    <tr>\n",
       "      <th>0</th>\n",
       "      <td>2.915339</td>\n",
       "      <td>3.276695</td>\n",
       "      <td>2.740604</td>\n",
       "    </tr>\n",
       "    <tr>\n",
       "      <th>1</th>\n",
       "      <td>3.067002</td>\n",
       "      <td>3.362117</td>\n",
       "      <td>2.940572</td>\n",
       "    </tr>\n",
       "    <tr>\n",
       "      <th>2</th>\n",
       "      <td>2.809256</td>\n",
       "      <td>3.344493</td>\n",
       "      <td>2.750774</td>\n",
       "    </tr>\n",
       "    <tr>\n",
       "      <th>3</th>\n",
       "      <td>2.769402</td>\n",
       "      <td>2.912663</td>\n",
       "      <td>3.143279</td>\n",
       "    </tr>\n",
       "    <tr>\n",
       "      <th>4</th>\n",
       "      <td>3.242453</td>\n",
       "      <td>3.003219</td>\n",
       "      <td>3.333873</td>\n",
       "    </tr>\n",
       "  </tbody>\n",
       "</table>\n",
       "</div>"
      ],
      "text/plain": [
       "      first    second     third\n",
       "0  2.915339  3.276695  2.740604\n",
       "1  3.067002  3.362117  2.940572\n",
       "2  2.809256  3.344493  2.750774\n",
       "3  2.769402  2.912663  3.143279\n",
       "4  3.242453  3.003219  3.333873"
      ]
     },
     "metadata": {
      "scrapbook": {
       "mime_prefix": "",
       "name": "df_tbl"
      }
     },
     "output_type": "display_data"
    }
   ],
   "source": [
    "bootstrap_subsets = data[bootstrap_indices][:3, :5].T\n",
    "df = pd.DataFrame(bootstrap_subsets, columns=[\"first\", \"second\", \"third\"])\n",
    "glue(\"df_tbl\", df)"
   ]
  },
  {
   "cell_type": "code",
   "execution_count": 7,
   "id": "6202a519",
   "metadata": {},
   "outputs": [
    {
     "data": {
      "text/latex": [
       "$\\displaystyle \\left(\\sqrt{5} i\\right)^{\\alpha} \\left(\\frac{1}{2} - \\frac{2 \\sqrt{5} i}{5}\\right) + \\left(- \\sqrt{5} i\\right)^{\\alpha} \\left(\\frac{1}{2} + \\frac{2 \\sqrt{5} i}{5}\\right)$"
      ],
      "text/plain": [
       "(sqrt(5)*I)**\\alpha*(1/2 - 2*sqrt(5)*I/5) + (-sqrt(5)*I)**\\alpha*(1/2 + 2*sqrt(5)*I/5)"
      ]
     },
     "metadata": {
      "scrapbook": {
       "mime_prefix": "",
       "name": "sym_eq"
      }
     },
     "output_type": "display_data"
    }
   ],
   "source": [
    "import sympy as sym\n",
    "f = sym.Function('f')\n",
    "y = sym.Function('y')\n",
    "n = sym.symbols(r'\\alpha')\n",
    "f = y(n)-2*y(n-1/sym.pi)-5*y(n-2)\n",
    "glue(\"sym_eq\", sym.rsolve(f,y(n),[1,4]))"
   ]
  }
 ],
 "metadata": {
  "jupytext": {
   "text_representation": {
    "extension": ".md",
    "format_name": "myst"
   }
  },
  "kernelspec": {
   "display_name": "Python 3",
   "language": "python",
   "name": "python3"
  },
  "language_info": {
   "codemirror_mode": {
    "name": "ipython",
    "version": 3
   },
   "file_extension": ".py",
   "mimetype": "text/x-python",
   "name": "python",
   "nbconvert_exporter": "python",
   "pygments_lexer": "ipython3",
   "version": "3.9.12"
  },
  "source_map": [
   10,
   42,
   54,
   58,
   73,
   86,
   91,
   101,
   108,
   110,
   114,
   129,
   133,
   137,
   145,
   155,
   200,
   213,
   239,
   274,
   297,
   306,
   313,
   336
  ]
 },
 "nbformat": 4,
 "nbformat_minor": 5
}