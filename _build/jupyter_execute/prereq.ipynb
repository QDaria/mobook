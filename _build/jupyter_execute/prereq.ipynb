{
 "cells": [
  {
   "cell_type": "markdown",
   "id": "f64b73e7",
   "metadata": {},
   "source": [
    "#  Team Effekt\n",
    "\n",
    "Some **Team Effekt**!"
   ]
  },
  {
   "cell_type": "code",
   "execution_count": 1,
   "id": "a2c2ebd3",
   "metadata": {
    "tags": [
     "mytag"
    ]
   },
   "outputs": [
    {
     "name": "stdout",
     "output_type": "stream",
     "text": [
      "A python cell\n"
     ]
    }
   ],
   "source": [
    "print(\"A python cell\")"
   ]
  },
  {
   "cell_type": "markdown",
   "id": "8d97d591",
   "metadata": {},
   "source": [
    "## A section\n",
    "\n",
    "And some more Markdown...\n",
    "# Prerequisites \n",
    "[jb](https://jupyterbook.org)\n",
    "\n",
    "[openml](https://www.openml.org/)\n",
    "---"
   ]
  }
 ],
 "metadata": {
  "jupytext": {
   "formats": "md:myst",
   "text_representation": {
    "extension": ".md",
    "format_name": "myst"
   }
  },
  "kernelspec": {
   "display_name": "Python 3",
   "language": "python",
   "name": "python3"
  },
  "language_info": {
   "codemirror_mode": {
    "name": "ipython",
    "version": 3
   },
   "file_extension": ".py",
   "mimetype": "text/x-python",
   "name": "python",
   "nbconvert_exporter": "python",
   "pygments_lexer": "ipython3",
   "version": "3.9.12"
  },
  "source_map": [
   11,
   17,
   21
  ]
 },
 "nbformat": 4,
 "nbformat_minor": 5
}