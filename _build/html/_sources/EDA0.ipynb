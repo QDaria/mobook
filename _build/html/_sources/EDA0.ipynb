{
 "cells": [
  {
   "cell_type": "code",
   "execution_count": 13,
   "id": "3a010ef9-72a7-4dca-9b11-27893b2df140",
   "metadata": {},
   "outputs": [
    {
     "data": {
      "text/html": [
       "<div>\n",
       "<style scoped>\n",
       "    .dataframe tbody tr th:only-of-type {\n",
       "        vertical-align: middle;\n",
       "    }\n",
       "\n",
       "    .dataframe tbody tr th {\n",
       "        vertical-align: top;\n",
       "    }\n",
       "\n",
       "    .dataframe thead th {\n",
       "        text-align: right;\n",
       "    }\n",
       "</style>\n",
       "<table border=\"1\" class=\"dataframe\">\n",
       "  <thead>\n",
       "    <tr style=\"text-align: right;\">\n",
       "      <th></th>\n",
       "      <th>Unnamed: 0</th>\n",
       "      <th>PID</th>\n",
       "      <th>ARENA_TILTAKDELTAKER_ID</th>\n",
       "      <th>ARENA_TILTAKGJENNOMFORING_ID</th>\n",
       "      <th>TILTAKGJENNOMFORINGHIST_ID</th>\n",
       "      <th>KJONN</th>\n",
       "      <th>FODSEL_AAR</th>\n",
       "      <th>FODSEL_MND</th>\n",
       "      <th>DATO_FRA</th>\n",
       "      <th>DATO_TIL</th>\n",
       "      <th>...</th>\n",
       "      <th>REG_DATO</th>\n",
       "      <th>DELTAKERTYPEKODE</th>\n",
       "      <th>PERSON_ORG_ENHET_AFNR</th>\n",
       "      <th>ARENA_ENHET_KODE</th>\n",
       "      <th>ARENA_ENHET_NAVN</th>\n",
       "      <th>PERSON_GEOGRAFI_ID</th>\n",
       "      <th>KOMMUNENAVN</th>\n",
       "      <th>FYLKESNAVN</th>\n",
       "      <th>PM_BEGIN_DATE</th>\n",
       "      <th>PM_END_DATE</th>\n",
       "    </tr>\n",
       "  </thead>\n",
       "  <tbody>\n",
       "    <tr>\n",
       "      <th>0</th>\n",
       "      <td>0</td>\n",
       "      <td>450412</td>\n",
       "      <td>6539190</td>\n",
       "      <td>3669772</td>\n",
       "      <td>5814546</td>\n",
       "      <td>K</td>\n",
       "      <td>2002</td>\n",
       "      <td>2</td>\n",
       "      <td>2021-09-20 00:00:00</td>\n",
       "      <td>2021-11-14 00:00:00</td>\n",
       "      <td>...</td>\n",
       "      <td>2021-09-09 13:09:34</td>\n",
       "      <td>INNSOKT</td>\n",
       "      <td>1243</td>\n",
       "      <td>1243</td>\n",
       "      <td>NAV Bjørnafjorden</td>\n",
       "      <td>8745</td>\n",
       "      <td>4624 Bjørnafjorden</td>\n",
       "      <td>46 Vestland</td>\n",
       "      <td>2021-09-20 00:00:00</td>\n",
       "      <td>2021-11-15</td>\n",
       "    </tr>\n",
       "    <tr>\n",
       "      <th>1</th>\n",
       "      <td>1</td>\n",
       "      <td>450653</td>\n",
       "      <td>6404113</td>\n",
       "      <td>3669042</td>\n",
       "      <td>5759677</td>\n",
       "      <td>M</td>\n",
       "      <td>1968</td>\n",
       "      <td>11</td>\n",
       "      <td>2021-02-22 00:00:00</td>\n",
       "      <td>2021-04-18 00:00:00</td>\n",
       "      <td>...</td>\n",
       "      <td>2021-02-15 14:56:04</td>\n",
       "      <td>INNSOKT</td>\n",
       "      <td>1940</td>\n",
       "      <td>1940</td>\n",
       "      <td>NAV Gáivuotna/Kåfjord</td>\n",
       "      <td>8643</td>\n",
       "      <td>5426 Gáivuotna - Kåfjord - Kaivuono</td>\n",
       "      <td>54 Finnmark og Troms</td>\n",
       "      <td>2021-02-20 00:00:00</td>\n",
       "      <td>2021-03-04</td>\n",
       "    </tr>\n",
       "    <tr>\n",
       "      <th>2</th>\n",
       "      <td>2</td>\n",
       "      <td>451370</td>\n",
       "      <td>6554754</td>\n",
       "      <td>3672293</td>\n",
       "      <td>5760665</td>\n",
       "      <td>K</td>\n",
       "      <td>1990</td>\n",
       "      <td>5</td>\n",
       "      <td>NaN</td>\n",
       "      <td>NaN</td>\n",
       "      <td>...</td>\n",
       "      <td>2021-09-30 14:01:31</td>\n",
       "      <td>INNSOKT</td>\n",
       "      <td>1833</td>\n",
       "      <td>1833</td>\n",
       "      <td>NAV Rana</td>\n",
       "      <td>8054</td>\n",
       "      <td>1833 Rana</td>\n",
       "      <td>18 Nordland</td>\n",
       "      <td>2021-10-01 00:00:00</td>\n",
       "      <td>2021-10-12</td>\n",
       "    </tr>\n",
       "    <tr>\n",
       "      <th>3</th>\n",
       "      <td>3</td>\n",
       "      <td>454275</td>\n",
       "      <td>6564751</td>\n",
       "      <td>3668744</td>\n",
       "      <td>5754286</td>\n",
       "      <td>K</td>\n",
       "      <td>1967</td>\n",
       "      <td>7</td>\n",
       "      <td>2021-10-25 00:00:00</td>\n",
       "      <td>2021-12-17 00:00:00</td>\n",
       "      <td>...</td>\n",
       "      <td>2021-10-14 08:22:25</td>\n",
       "      <td>INNSOKT</td>\n",
       "      <td>124</td>\n",
       "      <td>124</td>\n",
       "      <td>NAV Indre Østfold</td>\n",
       "      <td>8645</td>\n",
       "      <td>3014 Indre Østfold</td>\n",
       "      <td>30 Viken</td>\n",
       "      <td>2021-10-28 00:00:00</td>\n",
       "      <td>2021-12-03</td>\n",
       "    </tr>\n",
       "    <tr>\n",
       "      <th>4</th>\n",
       "      <td>4</td>\n",
       "      <td>457924</td>\n",
       "      <td>6425364</td>\n",
       "      <td>3669042</td>\n",
       "      <td>5759677</td>\n",
       "      <td>M</td>\n",
       "      <td>1990</td>\n",
       "      <td>1</td>\n",
       "      <td>2021-03-15 00:00:00</td>\n",
       "      <td>2021-05-14 00:00:00</td>\n",
       "      <td>...</td>\n",
       "      <td>2021-03-16 08:28:21</td>\n",
       "      <td>INNSOKT</td>\n",
       "      <td>2019</td>\n",
       "      <td>2019</td>\n",
       "      <td>NAV Nordkapp</td>\n",
       "      <td>8765</td>\n",
       "      <td>5435 Nordkapp</td>\n",
       "      <td>54 Finnmark og Troms</td>\n",
       "      <td>2021-03-17 00:00:00</td>\n",
       "      <td>2021-05-15</td>\n",
       "    </tr>\n",
       "  </tbody>\n",
       "</table>\n",
       "<p>5 rows × 26 columns</p>\n",
       "</div>"
      ],
      "text/plain": [
       "   Unnamed: 0     PID  ARENA_TILTAKDELTAKER_ID  ARENA_TILTAKGJENNOMFORING_ID  \\\n",
       "0           0  450412                  6539190                       3669772   \n",
       "1           1  450653                  6404113                       3669042   \n",
       "2           2  451370                  6554754                       3672293   \n",
       "3           3  454275                  6564751                       3668744   \n",
       "4           4  457924                  6425364                       3669042   \n",
       "\n",
       "   TILTAKGJENNOMFORINGHIST_ID KJONN  FODSEL_AAR  FODSEL_MND  \\\n",
       "0                     5814546     K        2002           2   \n",
       "1                     5759677     M        1968          11   \n",
       "2                     5760665     K        1990           5   \n",
       "3                     5754286     K        1967           7   \n",
       "4                     5759677     M        1990           1   \n",
       "\n",
       "              DATO_FRA             DATO_TIL  ...             REG_DATO  \\\n",
       "0  2021-09-20 00:00:00  2021-11-14 00:00:00  ...  2021-09-09 13:09:34   \n",
       "1  2021-02-22 00:00:00  2021-04-18 00:00:00  ...  2021-02-15 14:56:04   \n",
       "2                  NaN                  NaN  ...  2021-09-30 14:01:31   \n",
       "3  2021-10-25 00:00:00  2021-12-17 00:00:00  ...  2021-10-14 08:22:25   \n",
       "4  2021-03-15 00:00:00  2021-05-14 00:00:00  ...  2021-03-16 08:28:21   \n",
       "\n",
       "  DELTAKERTYPEKODE PERSON_ORG_ENHET_AFNR ARENA_ENHET_KODE  \\\n",
       "0          INNSOKT                  1243             1243   \n",
       "1          INNSOKT                  1940             1940   \n",
       "2          INNSOKT                  1833             1833   \n",
       "3          INNSOKT                   124              124   \n",
       "4          INNSOKT                  2019             2019   \n",
       "\n",
       "        ARENA_ENHET_NAVN PERSON_GEOGRAFI_ID  \\\n",
       "0      NAV Bjørnafjorden               8745   \n",
       "1  NAV Gáivuotna/Kåfjord               8643   \n",
       "2               NAV Rana               8054   \n",
       "3      NAV Indre Østfold               8645   \n",
       "4           NAV Nordkapp               8765   \n",
       "\n",
       "                           KOMMUNENAVN            FYLKESNAVN  \\\n",
       "0                   4624 Bjørnafjorden           46 Vestland   \n",
       "1  5426 Gáivuotna - Kåfjord - Kaivuono  54 Finnmark og Troms   \n",
       "2                            1833 Rana           18 Nordland   \n",
       "3                   3014 Indre Østfold              30 Viken   \n",
       "4                        5435 Nordkapp  54 Finnmark og Troms   \n",
       "\n",
       "         PM_BEGIN_DATE  PM_END_DATE  \n",
       "0  2021-09-20 00:00:00   2021-11-15  \n",
       "1  2021-02-20 00:00:00   2021-03-04  \n",
       "2  2021-10-01 00:00:00   2021-10-12  \n",
       "3  2021-10-28 00:00:00   2021-12-03  \n",
       "4  2021-03-17 00:00:00   2021-05-15  \n",
       "\n",
       "[5 rows x 26 columns]"
      ]
     },
     "execution_count": 13,
     "metadata": {},
     "output_type": "execute_result"
    }
   ],
   "source": [
    "import pandas as pd\n",
    "file_path = '/Users/mo/Library/Mobile Documents/com~apple~CloudDocs/Documents/GitHub/MoNAVbucopy/data/181_nov1.csv'\n",
    "df = pd.read_csv(file_path);df.head()"
   ]
  },
  {
   "cell_type": "code",
   "execution_count": 14,
   "id": "024274ff-a44b-4535-9a93-b0cbcd1ab645",
   "metadata": {},
   "outputs": [
    {
     "data": {
      "text/plain": [
       "Unnamed: 0                      49619\n",
       "PID                             12338\n",
       "ARENA_TILTAKDELTAKER_ID         12844\n",
       "ARENA_TILTAKGJENNOMFORING_ID       18\n",
       "TILTAKGJENNOMFORINGHIST_ID         56\n",
       "KJONN                               2\n",
       "FODSEL_AAR                         53\n",
       "FODSEL_MND                         12\n",
       "DATO_FRA                          141\n",
       "DATO_TIL                          548\n",
       "TILTAK_ID                           1\n",
       "TILTAKSKODE                         1\n",
       "TILTAKSNAVN                         1\n",
       "TILTAKSGRUPPEKODE                   1\n",
       "TILTAKSGRUPPENAVN                   1\n",
       "DELTAKERSTATUSKODE                 11\n",
       "REG_DATO                        12754\n",
       "DELTAKERTYPEKODE                    2\n",
       "PERSON_ORG_ENHET_AFNR             260\n",
       "ARENA_ENHET_KODE                  260\n",
       "ARENA_ENHET_NAVN                  260\n",
       "PERSON_GEOGRAFI_ID                308\n",
       "KOMMUNENAVN                       308\n",
       "FYLKESNAVN                         13\n",
       "PM_BEGIN_DATE                     620\n",
       "PM_END_DATE                       614\n",
       "dtype: int64"
      ]
     },
     "execution_count": 14,
     "metadata": {},
     "output_type": "execute_result"
    }
   ],
   "source": [
    "df.apply(pd.Series.nunique)"
   ]
  },
  {
   "cell_type": "code",
   "execution_count": 15,
   "id": "c18104cb-5eb5-4e8a-85bb-281b793e3368",
   "metadata": {},
   "outputs": [
    {
     "data": {
      "text/plain": [
       "Index(['Unnamed: 0', 'PID', 'ARENA_TILTAKDELTAKER_ID',\n",
       "       'ARENA_TILTAKGJENNOMFORING_ID', 'TILTAKGJENNOMFORINGHIST_ID', 'KJONN',\n",
       "       'FODSEL_AAR', 'FODSEL_MND', 'DATO_FRA', 'DATO_TIL', 'TILTAK_ID',\n",
       "       'TILTAKSKODE', 'TILTAKSNAVN', 'TILTAKSGRUPPEKODE', 'TILTAKSGRUPPENAVN',\n",
       "       'DELTAKERSTATUSKODE', 'REG_DATO', 'DELTAKERTYPEKODE',\n",
       "       'PERSON_ORG_ENHET_AFNR', 'ARENA_ENHET_KODE', 'ARENA_ENHET_NAVN',\n",
       "       'PERSON_GEOGRAFI_ID', 'KOMMUNENAVN', 'FYLKESNAVN', 'PM_BEGIN_DATE',\n",
       "       'PM_END_DATE'],\n",
       "      dtype='object')"
      ]
     },
     "execution_count": 15,
     "metadata": {},
     "output_type": "execute_result"
    }
   ],
   "source": [
    "df.columns"
   ]
  },
  {
   "cell_type": "code",
   "execution_count": 18,
   "id": "6b76ccdd-3c02-426a-a177-cf0e9a63ae23",
   "metadata": {},
   "outputs": [],
   "source": [
    "df = df[['PID', 'ARENA_TILTAKDELTAKER_ID', 'ARENA_TILTAKGJENNOMFORING_ID', 'TILTAKGJENNOMFORINGHIST_ID', 'KJONN', \n",
    "        'FODSEL_AAR', 'FODSEL_MND', 'DATO_FRA', 'DATO_TIL', 'DELTAKERSTATUSKODE', 'REG_DATO', 'DELTAKERTYPEKODE',\n",
    "        'PERSON_ORG_ENHET_AFNR', 'ARENA_ENHET_KODE', 'ARENA_ENHET_NAVN','PERSON_GEOGRAFI_ID', 'KOMMUNENAVN',\n",
    "        'FYLKESNAVN','PM_BEGIN_DATE','PM_END_DATE']]"
   ]
  },
  {
   "cell_type": "code",
   "execution_count": 19,
   "id": "fc21f467-7a71-4eaf-a1da-6cd485b1e136",
   "metadata": {},
   "outputs": [
    {
     "data": {
      "text/html": [
       "<div>\n",
       "<style scoped>\n",
       "    .dataframe tbody tr th:only-of-type {\n",
       "        vertical-align: middle;\n",
       "    }\n",
       "\n",
       "    .dataframe tbody tr th {\n",
       "        vertical-align: top;\n",
       "    }\n",
       "\n",
       "    .dataframe thead th {\n",
       "        text-align: right;\n",
       "    }\n",
       "</style>\n",
       "<table border=\"1\" class=\"dataframe\">\n",
       "  <thead>\n",
       "    <tr style=\"text-align: right;\">\n",
       "      <th></th>\n",
       "      <th>PID</th>\n",
       "      <th>ARENA_TILTAKDELTAKER_ID</th>\n",
       "      <th>ARENA_TILTAKGJENNOMFORING_ID</th>\n",
       "      <th>TILTAKGJENNOMFORINGHIST_ID</th>\n",
       "      <th>KJONN</th>\n",
       "      <th>FODSEL_AAR</th>\n",
       "      <th>FODSEL_MND</th>\n",
       "      <th>DATO_FRA</th>\n",
       "      <th>DATO_TIL</th>\n",
       "      <th>DELTAKERSTATUSKODE</th>\n",
       "      <th>REG_DATO</th>\n",
       "      <th>DELTAKERTYPEKODE</th>\n",
       "      <th>PERSON_ORG_ENHET_AFNR</th>\n",
       "      <th>ARENA_ENHET_KODE</th>\n",
       "      <th>ARENA_ENHET_NAVN</th>\n",
       "      <th>PERSON_GEOGRAFI_ID</th>\n",
       "      <th>KOMMUNENAVN</th>\n",
       "      <th>FYLKESNAVN</th>\n",
       "      <th>PM_BEGIN_DATE</th>\n",
       "      <th>PM_END_DATE</th>\n",
       "    </tr>\n",
       "  </thead>\n",
       "  <tbody>\n",
       "    <tr>\n",
       "      <th>0</th>\n",
       "      <td>450412</td>\n",
       "      <td>6539190</td>\n",
       "      <td>3669772</td>\n",
       "      <td>5814546</td>\n",
       "      <td>K</td>\n",
       "      <td>2002</td>\n",
       "      <td>2</td>\n",
       "      <td>2021-09-20 00:00:00</td>\n",
       "      <td>2021-11-14 00:00:00</td>\n",
       "      <td>GJENN</td>\n",
       "      <td>2021-09-09 13:09:34</td>\n",
       "      <td>INNSOKT</td>\n",
       "      <td>1243</td>\n",
       "      <td>1243</td>\n",
       "      <td>NAV Bjørnafjorden</td>\n",
       "      <td>8745</td>\n",
       "      <td>4624 Bjørnafjorden</td>\n",
       "      <td>46 Vestland</td>\n",
       "      <td>2021-09-20 00:00:00</td>\n",
       "      <td>2021-11-15</td>\n",
       "    </tr>\n",
       "    <tr>\n",
       "      <th>1</th>\n",
       "      <td>450653</td>\n",
       "      <td>6404113</td>\n",
       "      <td>3669042</td>\n",
       "      <td>5759677</td>\n",
       "      <td>M</td>\n",
       "      <td>1968</td>\n",
       "      <td>11</td>\n",
       "      <td>2021-02-22 00:00:00</td>\n",
       "      <td>2021-04-18 00:00:00</td>\n",
       "      <td>GJENN</td>\n",
       "      <td>2021-02-15 14:56:04</td>\n",
       "      <td>INNSOKT</td>\n",
       "      <td>1940</td>\n",
       "      <td>1940</td>\n",
       "      <td>NAV Gáivuotna/Kåfjord</td>\n",
       "      <td>8643</td>\n",
       "      <td>5426 Gáivuotna - Kåfjord - Kaivuono</td>\n",
       "      <td>54 Finnmark og Troms</td>\n",
       "      <td>2021-02-20 00:00:00</td>\n",
       "      <td>2021-03-04</td>\n",
       "    </tr>\n",
       "    <tr>\n",
       "      <th>2</th>\n",
       "      <td>451370</td>\n",
       "      <td>6554754</td>\n",
       "      <td>3672293</td>\n",
       "      <td>5760665</td>\n",
       "      <td>K</td>\n",
       "      <td>1990</td>\n",
       "      <td>5</td>\n",
       "      <td>NaN</td>\n",
       "      <td>NaN</td>\n",
       "      <td>AKTUELL</td>\n",
       "      <td>2021-09-30 14:01:31</td>\n",
       "      <td>INNSOKT</td>\n",
       "      <td>1833</td>\n",
       "      <td>1833</td>\n",
       "      <td>NAV Rana</td>\n",
       "      <td>8054</td>\n",
       "      <td>1833 Rana</td>\n",
       "      <td>18 Nordland</td>\n",
       "      <td>2021-10-01 00:00:00</td>\n",
       "      <td>2021-10-12</td>\n",
       "    </tr>\n",
       "    <tr>\n",
       "      <th>3</th>\n",
       "      <td>454275</td>\n",
       "      <td>6564751</td>\n",
       "      <td>3668744</td>\n",
       "      <td>5754286</td>\n",
       "      <td>K</td>\n",
       "      <td>1967</td>\n",
       "      <td>7</td>\n",
       "      <td>2021-10-25 00:00:00</td>\n",
       "      <td>2021-12-17 00:00:00</td>\n",
       "      <td>GJENN</td>\n",
       "      <td>2021-10-14 08:22:25</td>\n",
       "      <td>INNSOKT</td>\n",
       "      <td>124</td>\n",
       "      <td>124</td>\n",
       "      <td>NAV Indre Østfold</td>\n",
       "      <td>8645</td>\n",
       "      <td>3014 Indre Østfold</td>\n",
       "      <td>30 Viken</td>\n",
       "      <td>2021-10-28 00:00:00</td>\n",
       "      <td>2021-12-03</td>\n",
       "    </tr>\n",
       "    <tr>\n",
       "      <th>4</th>\n",
       "      <td>457924</td>\n",
       "      <td>6425364</td>\n",
       "      <td>3669042</td>\n",
       "      <td>5759677</td>\n",
       "      <td>M</td>\n",
       "      <td>1990</td>\n",
       "      <td>1</td>\n",
       "      <td>2021-03-15 00:00:00</td>\n",
       "      <td>2021-05-14 00:00:00</td>\n",
       "      <td>GJENN</td>\n",
       "      <td>2021-03-16 08:28:21</td>\n",
       "      <td>INNSOKT</td>\n",
       "      <td>2019</td>\n",
       "      <td>2019</td>\n",
       "      <td>NAV Nordkapp</td>\n",
       "      <td>8765</td>\n",
       "      <td>5435 Nordkapp</td>\n",
       "      <td>54 Finnmark og Troms</td>\n",
       "      <td>2021-03-17 00:00:00</td>\n",
       "      <td>2021-05-15</td>\n",
       "    </tr>\n",
       "  </tbody>\n",
       "</table>\n",
       "</div>"
      ],
      "text/plain": [
       "      PID  ARENA_TILTAKDELTAKER_ID  ARENA_TILTAKGJENNOMFORING_ID  \\\n",
       "0  450412                  6539190                       3669772   \n",
       "1  450653                  6404113                       3669042   \n",
       "2  451370                  6554754                       3672293   \n",
       "3  454275                  6564751                       3668744   \n",
       "4  457924                  6425364                       3669042   \n",
       "\n",
       "   TILTAKGJENNOMFORINGHIST_ID KJONN  FODSEL_AAR  FODSEL_MND  \\\n",
       "0                     5814546     K        2002           2   \n",
       "1                     5759677     M        1968          11   \n",
       "2                     5760665     K        1990           5   \n",
       "3                     5754286     K        1967           7   \n",
       "4                     5759677     M        1990           1   \n",
       "\n",
       "              DATO_FRA             DATO_TIL DELTAKERSTATUSKODE  \\\n",
       "0  2021-09-20 00:00:00  2021-11-14 00:00:00              GJENN   \n",
       "1  2021-02-22 00:00:00  2021-04-18 00:00:00              GJENN   \n",
       "2                  NaN                  NaN            AKTUELL   \n",
       "3  2021-10-25 00:00:00  2021-12-17 00:00:00              GJENN   \n",
       "4  2021-03-15 00:00:00  2021-05-14 00:00:00              GJENN   \n",
       "\n",
       "              REG_DATO DELTAKERTYPEKODE  PERSON_ORG_ENHET_AFNR  \\\n",
       "0  2021-09-09 13:09:34          INNSOKT                   1243   \n",
       "1  2021-02-15 14:56:04          INNSOKT                   1940   \n",
       "2  2021-09-30 14:01:31          INNSOKT                   1833   \n",
       "3  2021-10-14 08:22:25          INNSOKT                    124   \n",
       "4  2021-03-16 08:28:21          INNSOKT                   2019   \n",
       "\n",
       "   ARENA_ENHET_KODE       ARENA_ENHET_NAVN  PERSON_GEOGRAFI_ID  \\\n",
       "0              1243      NAV Bjørnafjorden                8745   \n",
       "1              1940  NAV Gáivuotna/Kåfjord                8643   \n",
       "2              1833               NAV Rana                8054   \n",
       "3               124      NAV Indre Østfold                8645   \n",
       "4              2019           NAV Nordkapp                8765   \n",
       "\n",
       "                           KOMMUNENAVN            FYLKESNAVN  \\\n",
       "0                   4624 Bjørnafjorden           46 Vestland   \n",
       "1  5426 Gáivuotna - Kåfjord - Kaivuono  54 Finnmark og Troms   \n",
       "2                            1833 Rana           18 Nordland   \n",
       "3                   3014 Indre Østfold              30 Viken   \n",
       "4                        5435 Nordkapp  54 Finnmark og Troms   \n",
       "\n",
       "         PM_BEGIN_DATE PM_END_DATE  \n",
       "0  2021-09-20 00:00:00  2021-11-15  \n",
       "1  2021-02-20 00:00:00  2021-03-04  \n",
       "2  2021-10-01 00:00:00  2021-10-12  \n",
       "3  2021-10-28 00:00:00  2021-12-03  \n",
       "4  2021-03-17 00:00:00  2021-05-15  "
      ]
     },
     "execution_count": 19,
     "metadata": {},
     "output_type": "execute_result"
    }
   ],
   "source": [
    "df.head()"
   ]
  },
  {
   "cell_type": "code",
   "execution_count": 20,
   "id": "5a6512ba-2e53-437c-b5b0-7607362fb083",
   "metadata": {},
   "outputs": [
    {
     "data": {
      "text/plain": [
       "PID                             12338\n",
       "ARENA_TILTAKDELTAKER_ID         12844\n",
       "ARENA_TILTAKGJENNOMFORING_ID       18\n",
       "TILTAKGJENNOMFORINGHIST_ID         56\n",
       "KJONN                               2\n",
       "FODSEL_AAR                         53\n",
       "FODSEL_MND                         12\n",
       "DATO_FRA                          141\n",
       "DATO_TIL                          548\n",
       "DELTAKERSTATUSKODE                 11\n",
       "REG_DATO                        12754\n",
       "DELTAKERTYPEKODE                    2\n",
       "PERSON_ORG_ENHET_AFNR             260\n",
       "ARENA_ENHET_KODE                  260\n",
       "ARENA_ENHET_NAVN                  260\n",
       "PERSON_GEOGRAFI_ID                308\n",
       "KOMMUNENAVN                       308\n",
       "FYLKESNAVN                         13\n",
       "PM_BEGIN_DATE                     620\n",
       "PM_END_DATE                       614\n",
       "dtype: int64"
      ]
     },
     "execution_count": 20,
     "metadata": {},
     "output_type": "execute_result"
    }
   ],
   "source": [
    "df.apply(pd.Series.nunique)"
   ]
  },
  {
   "cell_type": "code",
   "execution_count": 21,
   "id": "693dc7a8-a72b-472f-ae36-6fab93f28d84",
   "metadata": {},
   "outputs": [
    {
     "data": {
      "text/plain": [
       "PID                              int64\n",
       "ARENA_TILTAKDELTAKER_ID          int64\n",
       "ARENA_TILTAKGJENNOMFORING_ID     int64\n",
       "TILTAKGJENNOMFORINGHIST_ID       int64\n",
       "KJONN                           object\n",
       "FODSEL_AAR                       int64\n",
       "FODSEL_MND                       int64\n",
       "DATO_FRA                        object\n",
       "DATO_TIL                        object\n",
       "DELTAKERSTATUSKODE              object\n",
       "REG_DATO                        object\n",
       "DELTAKERTYPEKODE                object\n",
       "PERSON_ORG_ENHET_AFNR            int64\n",
       "ARENA_ENHET_KODE                 int64\n",
       "ARENA_ENHET_NAVN                object\n",
       "PERSON_GEOGRAFI_ID               int64\n",
       "KOMMUNENAVN                     object\n",
       "FYLKESNAVN                      object\n",
       "PM_BEGIN_DATE                   object\n",
       "PM_END_DATE                     object\n",
       "dtype: object"
      ]
     },
     "execution_count": 21,
     "metadata": {},
     "output_type": "execute_result"
    }
   ],
   "source": [
    "df.dtypes"
   ]
  },
  {
   "cell_type": "code",
   "execution_count": 26,
   "id": "acc0f551-a7e6-4a19-8534-5ae8fd269656",
   "metadata": {},
   "outputs": [
    {
     "data": {
      "text/plain": [
       "('2021-01-20', '2022-10-30')"
      ]
     },
     "execution_count": 26,
     "metadata": {},
     "output_type": "execute_result"
    }
   ],
   "source": [
    "min(df['PM_END_DATE']), max(df['PM_END_DATE'])"
   ]
  },
  {
   "cell_type": "code",
   "execution_count": 28,
   "id": "f532b68a-477d-4f6b-89ff-9cb11b2e3533",
   "metadata": {},
   "outputs": [
    {
     "name": "stderr",
     "output_type": "stream",
     "text": [
      "/var/folders/qz/f1gh3gjn4957xw2fb_fkzhq00000gn/T/ipykernel_8542/1810306681.py:1: SettingWithCopyWarning: \n",
      "A value is trying to be set on a copy of a slice from a DataFrame.\n",
      "Try using .loc[row_indexer,col_indexer] = value instead\n",
      "\n",
      "See the caveats in the documentation: https://pandas.pydata.org/pandas-docs/stable/user_guide/indexing.html#returning-a-view-versus-a-copy\n",
      "  df['PM_END_DATE'] = pd.to_datetime(df['PM_END_DATE'], errors = 'coerce')\n"
     ]
    },
    {
     "data": {
      "text/plain": [
       "PID                                      int64\n",
       "ARENA_TILTAKDELTAKER_ID                  int64\n",
       "ARENA_TILTAKGJENNOMFORING_ID             int64\n",
       "TILTAKGJENNOMFORINGHIST_ID               int64\n",
       "KJONN                                   object\n",
       "FODSEL_AAR                               int64\n",
       "FODSEL_MND                               int64\n",
       "DATO_FRA                                object\n",
       "DATO_TIL                                object\n",
       "DELTAKERSTATUSKODE                      object\n",
       "REG_DATO                                object\n",
       "DELTAKERTYPEKODE                        object\n",
       "PERSON_ORG_ENHET_AFNR                    int64\n",
       "ARENA_ENHET_KODE                         int64\n",
       "ARENA_ENHET_NAVN                        object\n",
       "PERSON_GEOGRAFI_ID                       int64\n",
       "KOMMUNENAVN                             object\n",
       "FYLKESNAVN                              object\n",
       "PM_BEGIN_DATE                           object\n",
       "PM_END_DATE                     datetime64[ns]\n",
       "dtype: object"
      ]
     },
     "execution_count": 28,
     "metadata": {},
     "output_type": "execute_result"
    }
   ],
   "source": [
    "df['PM_END_DATE'] = pd.to_datetime(df['PM_END_DATE'], errors = 'coerce')\n",
    "df.dtypes"
   ]
  },
  {
   "cell_type": "code",
   "execution_count": 29,
   "id": "4aa17072-e0a7-4bbb-b796-2abbd908280a",
   "metadata": {},
   "outputs": [
    {
     "data": {
      "text/plain": [
       "PID                                      int64\n",
       "ARENA_TILTAKDELTAKER_ID                  int64\n",
       "ARENA_TILTAKGJENNOMFORING_ID             int64\n",
       "TILTAKGJENNOMFORINGHIST_ID               int64\n",
       "KJONN                                   object\n",
       "FODSEL_AAR                               int64\n",
       "FODSEL_MND                               int64\n",
       "DATO_FRA                        datetime64[ns]\n",
       "DATO_TIL                        datetime64[ns]\n",
       "DELTAKERSTATUSKODE                      object\n",
       "REG_DATO                        datetime64[ns]\n",
       "DELTAKERTYPEKODE                        object\n",
       "PERSON_ORG_ENHET_AFNR                    int64\n",
       "ARENA_ENHET_KODE                         int64\n",
       "ARENA_ENHET_NAVN                        object\n",
       "PERSON_GEOGRAFI_ID                       int64\n",
       "KOMMUNENAVN                             object\n",
       "FYLKESNAVN                              object\n",
       "PM_BEGIN_DATE                   datetime64[ns]\n",
       "PM_END_DATE                     datetime64[ns]\n",
       "dtype: object"
      ]
     },
     "execution_count": 29,
     "metadata": {},
     "output_type": "execute_result"
    }
   ],
   "source": [
    "df['PM_BEGIN_DATE'] = pd.to_datetime(df['PM_END_DATE'], errors = 'coerce')\n",
    "df['DATO_FRA'] = pd.to_datetime(df['DATO_FRA'], errors = 'coerce')\n",
    "df['DATO_TIL'] = pd.to_datetime(df['DATO_TIL'], errors = 'coerce')\n",
    "df['REG_DATO'] = pd.to_datetime(df['REG_DATO'], errors = 'coerce')\n",
    "df.dtypes"
   ]
  },
  {
   "cell_type": "code",
   "execution_count": 30,
   "id": "f0942ef7-bff2-403c-9418-00df7e397597",
   "metadata": {},
   "outputs": [
    {
     "data": {
      "text/plain": [
       "datetime.date(2021, 5, 4)"
      ]
     },
     "execution_count": 30,
     "metadata": {},
     "output_type": "execute_result"
    }
   ],
   "source": [
    "from faker import Faker\n",
    "fake = Faker()\n",
    "\n",
    "\n",
    "random_date = fake.date_between_dates(min(df['PM_END_DATE']), max(df['PM_END_DATE']))\n",
    "random_date"
   ]
  },
  {
   "cell_type": "code",
   "execution_count": 46,
   "id": "672eac34-b3d4-4e2d-940c-8ecb088f7ecd",
   "metadata": {},
   "outputs": [
    {
     "data": {
      "text/plain": [
       "PID                                      int64\n",
       "ARENA_TILTAKDELTAKER_ID                  int64\n",
       "ARENA_TILTAKGJENNOMFORING_ID             int64\n",
       "TILTAKGJENNOMFORINGHIST_ID               int64\n",
       "KJONN                                   object\n",
       "FODSEL_AAR                               int64\n",
       "FODSEL_MND                               int64\n",
       "DATO_FRA                        datetime64[ns]\n",
       "DATO_TIL                        datetime64[ns]\n",
       "DELTAKERSTATUSKODE                      object\n",
       "REG_DATO                        datetime64[ns]\n",
       "DELTAKERTYPEKODE                        object\n",
       "PERSON_ORG_ENHET_AFNR                    int64\n",
       "ARENA_ENHET_KODE                         int64\n",
       "ARENA_ENHET_NAVN                        object\n",
       "PERSON_GEOGRAFI_ID                       int64\n",
       "KOMMUNENAVN                             object\n",
       "FYLKESNAVN                              object\n",
       "PM_BEGIN_DATE                   datetime64[ns]\n",
       "PM_END_DATE                     datetime64[ns]\n",
       "dtype: object"
      ]
     },
     "execution_count": 46,
     "metadata": {},
     "output_type": "execute_result"
    }
   ],
   "source": [
    "df.dtypes"
   ]
  },
  {
   "cell_type": "code",
   "execution_count": 47,
   "id": "c49a5e47-75a4-4958-a5e5-ad0f4c98f34f",
   "metadata": {},
   "outputs": [
    {
     "data": {
      "text/plain": [
       "PID                                      int64\n",
       "ARENA_TILTAKDELTAKER_ID                  int64\n",
       "ARENA_TILTAKGJENNOMFORING_ID             int64\n",
       "TILTAKGJENNOMFORINGHIST_ID               int64\n",
       "KJONN                                   object\n",
       "FODSEL_AAR                               int64\n",
       "FODSEL_MND                               int64\n",
       "DATO_FRA                        datetime64[ns]\n",
       "DATO_TIL                        datetime64[ns]\n",
       "DELTAKERSTATUSKODE                      object\n",
       "REG_DATO                        datetime64[ns]\n",
       "DELTAKERTYPEKODE                        object\n",
       "PERSON_ORG_ENHET_AFNR                    int64\n",
       "ARENA_ENHET_KODE                         int64\n",
       "ARENA_ENHET_NAVN                        object\n",
       "PERSON_GEOGRAFI_ID                       int64\n",
       "KOMMUNENAVN                             object\n",
       "FYLKESNAVN                              object\n",
       "PM_BEGIN_DATE                   datetime64[ns]\n",
       "PM_END_DATE                     datetime64[ns]\n",
       "dtype: object"
      ]
     },
     "execution_count": 47,
     "metadata": {},
     "output_type": "execute_result"
    }
   ],
   "source": [
    "df['PM_END_DATE'] = pd.to_datetime(df['PM_END_DATE'], errors = 'coerce')\n",
    "df.dtypes"
   ]
  },
  {
   "cell_type": "code",
   "execution_count": null,
   "id": "1fe809a9-c93c-4f40-99ca-dfca4d45c330",
   "metadata": {},
   "outputs": [],
   "source": [
    "for column in df.select_dtypes(include=['object']).columns:\n",
    "    df[column] = df[column].astype(pd.StringDtype())\n",
    "df.dtypes"
   ]
  },
  {
   "cell_type": "code",
   "execution_count": 31,
   "id": "e0ddf000-c810-4813-85f9-a700b12f81ba",
   "metadata": {},
   "outputs": [
    {
     "data": {
      "text/plain": [
       "0"
      ]
     },
     "execution_count": 31,
     "metadata": {},
     "output_type": "execute_result"
    }
   ],
   "source": [
    "# Count how many rows in df with NaT\n",
    "df['PM_END_DATE'].isnull().sum()"
   ]
  },
  {
   "cell_type": "code",
   "execution_count": 39,
   "id": "7cf17d0b-182d-4722-a696-64afc8232325",
   "metadata": {},
   "outputs": [
    {
     "data": {
      "text/plain": [
       "0"
      ]
     },
     "execution_count": 39,
     "metadata": {},
     "output_type": "execute_result"
    }
   ],
   "source": [
    "df['PM_BEGIN_DATE'].isnull().sum()\n"
   ]
  },
  {
   "cell_type": "code",
   "execution_count": null,
   "id": "a16194ed-1d62-403f-83a3-55cbad2d0d46",
   "metadata": {},
   "outputs": [],
   "source": [
    "# replace every NaT rows in df['PM_END_DATE'] with random_date converted to pandas.core.series.Series \n",
    "df['PM_END_DATE'] = df['PM_END_DATE'].fillna(random_date)\n",
    "df['PM_END_DATE']\n",
    "\n",
    "df['PM_END_DATE'].isnull().sum()"
   ]
  },
  {
   "cell_type": "code",
   "execution_count": null,
   "id": "58d5146d-8f5c-412e-81a1-f828fa0adaac",
   "metadata": {},
   "outputs": [],
   "source": [
    "d.open_browser()\n",
    "dtale.instances() "
   ]
  },
  {
   "cell_type": "code",
   "execution_count": 48,
   "id": "86f55976-ec14-471f-8fde-a52411a418ed",
   "metadata": {},
   "outputs": [
    {
     "ename": "NameError",
     "evalue": "name 'AV' is not defined",
     "output_type": "error",
     "traceback": [
      "\u001b[0;31m---------------------------------------------------------------------------\u001b[0m",
      "\u001b[0;31mNameError\u001b[0m                                 Traceback (most recent call last)",
      "Input \u001b[0;32mIn [48]\u001b[0m, in \u001b[0;36m<cell line: 3>\u001b[0;34m()\u001b[0m\n\u001b[1;32m      1\u001b[0m filename \u001b[38;5;241m=\u001b[39m \u001b[38;5;124m\"\u001b[39m\u001b[38;5;124m\"\u001b[39m\n\u001b[1;32m      2\u001b[0m sep \u001b[38;5;241m=\u001b[39m \u001b[38;5;124m\"\u001b[39m\u001b[38;5;124m,\u001b[39m\u001b[38;5;124m\"\u001b[39m\n\u001b[0;32m----> 3\u001b[0m dft \u001b[38;5;241m=\u001b[39m \u001b[43mAV\u001b[49m\u001b[38;5;241m.\u001b[39mAutoViz(\n\u001b[1;32m      4\u001b[0m     filename,\n\u001b[1;32m      5\u001b[0m     sep\u001b[38;5;241m=\u001b[39m\u001b[38;5;124m\"\u001b[39m\u001b[38;5;124m,\u001b[39m\u001b[38;5;124m\"\u001b[39m,\n\u001b[1;32m      6\u001b[0m     depVar\u001b[38;5;241m=\u001b[39m\u001b[38;5;124m\"\u001b[39m\u001b[38;5;124m\"\u001b[39m,\n\u001b[1;32m      7\u001b[0m     dfte\u001b[38;5;241m=\u001b[39mdf,\n\u001b[1;32m      8\u001b[0m     header\u001b[38;5;241m=\u001b[39m\u001b[38;5;241m0\u001b[39m,\n\u001b[1;32m      9\u001b[0m     verbose\u001b[38;5;241m=\u001b[39m\u001b[38;5;241m1\u001b[39m,\n\u001b[1;32m     10\u001b[0m     lowess\u001b[38;5;241m=\u001b[39m\u001b[38;5;28;01mTrue\u001b[39;00m,\n\u001b[1;32m     11\u001b[0m     chart_format\u001b[38;5;241m=\u001b[39m\u001b[38;5;124m\"\u001b[39m\u001b[38;5;124mbokeh\u001b[39m\u001b[38;5;124m\"\u001b[39m,\n\u001b[1;32m     12\u001b[0m     max_rows_analyzed\u001b[38;5;241m=\u001b[39m\u001b[38;5;241m150000\u001b[39m,\n\u001b[1;32m     13\u001b[0m     max_cols_analyzed\u001b[38;5;241m=\u001b[39m\u001b[38;5;241m30\u001b[39m,\n\u001b[1;32m     14\u001b[0m     save_plot_dir\u001b[38;5;241m=\u001b[39m\u001b[38;5;28;01mNone\u001b[39;00m\n\u001b[1;32m     15\u001b[0m )\n",
      "\u001b[0;31mNameError\u001b[0m: name 'AV' is not defined"
     ]
    }
   ],
   "source": [
    "ilename = \"\"\n",
    "    sep = \",\"\n",
    "    dft = AV.AutoViz(\n",
    "          filename,\n",
    "          sep=\",\",\n",
    "          depVar=\"\",\n",
    "          dfte=df,\n",
    "          cheader=0,\n",
    "          verbose=1,\n",
    "          lowess=True,\n",
    "          bchart_format=\"bokeh\",\n",
    "          max_rows_analyzed=150000,\n",
    "          max_cols_analyzed=30,\n",
    "          save_plot_dir=None\n",
    "    )    "
   ]
  },
  {
   "cell_type": "code",
   "execution_count": null,
   "id": "607b2d50-272e-4eb4-84b5-00cb860ab0d7",
   "metadata": {},
   "outputs": [],
   "source": [
    "def main():\n",
    "    dtale.show(df, subprocess=False)\n",
    "    ######## Autoviz ###########\n",
    "    data_cleaning_suggestions(df)\n",
    "    #autoviz = AutoViz_Class().AutoViz('train.csv')\n",
    "    filename = \"\"\n",
    "    sep = \",\"\n",
    "    dft = AV.AutoViz(\n",
    "        filename,\n",
    "        sep=\",\",\n",
    "        depVar=\"\",\n",
    "        dfte=df,\n",
    "        header=0,\n",
    "        verbose=1,\n",
    "        lowess=True,\n",
    "        chart_format=\"bokeh\",\n",
    "        max_rows_analyzed=150000,\n",
    "        max_cols_analyzed=30,\n",
    "        save_plot_dir=None\n",
    "    )    "
   ]
  },
  {
   "cell_type": "code",
   "execution_count": 45,
   "id": "a7aa8970-7fcf-4632-8fc3-761db06ecf10",
   "metadata": {},
   "outputs": [
    {
     "name": "stderr",
     "output_type": "stream",
     "text": [
      "2022-10-31 01:02:43,724 - INFO     - D-Tale started at: http://m0n.local:40000\n"
     ]
    },
    {
     "name": "stdout",
     "output_type": "stream",
     "text": [
      "Unexpected exception formatting exception. Falling back to standard exception\n"
     ]
    },
    {
     "name": "stderr",
     "output_type": "stream",
     "text": [
      "Traceback (most recent call last):\n",
      "  File \"/Users/mo/opt/anaconda3/lib/python3.9/site-packages/IPython/core/interactiveshell.py\", line 3398, in run_code\n",
      "    exec(code_obj, self.user_global_ns, self.user_ns)\n",
      "  File \"/var/folders/qz/f1gh3gjn4957xw2fb_fkzhq00000gn/T/ipykernel_8542/621270436.py\", line 19, in <cell line: 16>\n",
      "    dtale.show(df, subprocess=False)\n",
      "  File \"/Users/mo/opt/anaconda3/lib/python3.9/site-packages/dtale/app.py\", line 817, in show\n",
      "    _start()\n",
      "  File \"/Users/mo/opt/anaconda3/lib/python3.9/site-packages/dtale/app.py\", line 776, in _start\n",
      "    app = build_app(\n",
      "  File \"/Users/mo/opt/anaconda3/lib/python3.9/site-packages/dtale/app.py\", line 319, in build_app\n",
      "    app.jinja_env.trim_blocks = True\n",
      "  File \"/Users/mo/opt/anaconda3/lib/python3.9/site-packages/flask/helpers.py\", line 957, in __get__\n",
      "  File \"/Users/mo/opt/anaconda3/lib/python3.9/site-packages/flask/app.py\", line 689, in jinja_env\n",
      "    self.url_map.host_matching = host_matching\n",
      "  File \"/Users/mo/opt/anaconda3/lib/python3.9/site-packages/flask/app.py\", line 781, in create_jinja_environment\n",
      "  File \"/Users/mo/opt/anaconda3/lib/python3.9/site-packages/flask/templating.py\", line 45, in __init__\n",
      "    BaseEnvironment.__init__(self, **options)\n",
      "  File \"/Users/mo/opt/anaconda3/lib/python3.9/site-packages/jinja2/environment.py\", line 359, in __init__\n",
      "    self.policies = DEFAULT_POLICIES.copy()\n",
      "  File \"/Users/mo/opt/anaconda3/lib/python3.9/site-packages/jinja2/environment.py\", line 108, in load_extensions\n",
      "    environment: \"Environment\",\n",
      "  File \"/Users/mo/opt/anaconda3/lib/python3.9/site-packages/jinja2/utils.py\", line 131, in import_string\n",
      "    \" old name will be removed in Jinja 3.1.\",\n",
      "  File \"/Users/mo/opt/anaconda3/lib/python3.9/site-packages/jinja2/ext.py\", line 18, in <module>\n",
      "    from .utils import pass_context\n",
      "ImportError: cannot import name 'pass_context' from 'jinja2.utils' (/Users/mo/opt/anaconda3/lib/python3.9/site-packages/jinja2/utils.py)\n",
      "\n",
      "During handling of the above exception, another exception occurred:\n",
      "\n",
      "Traceback (most recent call last):\n",
      "  File \"/Users/mo/opt/anaconda3/lib/python3.9/site-packages/IPython/core/interactiveshell.py\", line 1993, in showtraceback\n",
      "    stb = self.InteractiveTB.structured_traceback(\n",
      "  File \"/Users/mo/opt/anaconda3/lib/python3.9/site-packages/IPython/core/ultratb.py\", line 1118, in structured_traceback\n",
      "    return FormattedTB.structured_traceback(\n",
      "  File \"/Users/mo/opt/anaconda3/lib/python3.9/site-packages/IPython/core/ultratb.py\", line 1012, in structured_traceback\n",
      "    return VerboseTB.structured_traceback(\n",
      "  File \"/Users/mo/opt/anaconda3/lib/python3.9/site-packages/IPython/core/ultratb.py\", line 865, in structured_traceback\n",
      "    formatted_exception = self.format_exception_as_a_whole(etype, evalue, etb, number_of_lines_of_context,\n",
      "  File \"/Users/mo/opt/anaconda3/lib/python3.9/site-packages/IPython/core/ultratb.py\", line 818, in format_exception_as_a_whole\n",
      "    frames.append(self.format_record(r))\n",
      "  File \"/Users/mo/opt/anaconda3/lib/python3.9/site-packages/IPython/core/ultratb.py\", line 736, in format_record\n",
      "    result += ''.join(_format_traceback_lines(frame_info.lines, Colors, self.has_colors, lvals))\n",
      "  File \"/Users/mo/opt/anaconda3/lib/python3.9/site-packages/stack_data/utils.py\", line 145, in cached_property_wrapper\n",
      "    value = obj.__dict__[self.func.__name__] = self.func(obj)\n",
      "  File \"/Users/mo/opt/anaconda3/lib/python3.9/site-packages/stack_data/core.py\", line 698, in lines\n",
      "    pieces = self.included_pieces\n",
      "  File \"/Users/mo/opt/anaconda3/lib/python3.9/site-packages/stack_data/utils.py\", line 145, in cached_property_wrapper\n",
      "    value = obj.__dict__[self.func.__name__] = self.func(obj)\n",
      "  File \"/Users/mo/opt/anaconda3/lib/python3.9/site-packages/stack_data/core.py\", line 649, in included_pieces\n",
      "    pos = scope_pieces.index(self.executing_piece)\n",
      "  File \"/Users/mo/opt/anaconda3/lib/python3.9/site-packages/stack_data/utils.py\", line 145, in cached_property_wrapper\n",
      "    value = obj.__dict__[self.func.__name__] = self.func(obj)\n",
      "  File \"/Users/mo/opt/anaconda3/lib/python3.9/site-packages/stack_data/core.py\", line 628, in executing_piece\n",
      "    return only(\n",
      "  File \"/Users/mo/opt/anaconda3/lib/python3.9/site-packages/executing/executing.py\", line 164, in only\n",
      "    raise NotOneValueFound('Expected one value, found 0')\n",
      "executing.executing.NotOneValueFound: Expected one value, found 0\n"
     ]
    }
   ],
   "source": [
    "import dtale\n",
    "import dtale.app as dtale_app\n",
    "from pandas_profiling import ProfileReport\n",
    "import sweetviz as sv\n",
    "from autoviz.AutoViz_Class import AutoViz_Class\n",
    "from autoviz import data_cleaning_suggestions\n",
    "#from dataprep.datasets import load_dataset\n",
    "#from dataprep.eda import create_report\n",
    "import klib\n",
    "import dabl\n",
    "from datatile.summary.df import DataFrameSummary\n",
    "\n",
    "dfs = DataFrameSummary(df)\n",
    "dfs.summary()\n",
    "\n",
    "if __name__ == '__main__':\n",
    "    \n",
    "    ######## dtale ###########\n",
    "    dtale.show(df, subprocess=False)\n",
    "    #dtale_app.JUPYTER_SERVER_PROXY = True\n",
    "    \n",
    "    ######## pandas-profiling #########\n",
    "    profile = ProfileReport(df, explorative=True)\n",
    "    profile.to_file(\"181.html\")                              #Saving results to a HTML file\n",
    "                              \n",
    "    ######## Sweetviz ##########\n",
    "    sweet_report = sv.analyze(df)\n",
    "    #Saving results to HTML file\n",
    "    sweet_report.show_html('sweet_181_report.html')\n",
    "    \n",
    "    ######## dataprep #########\n",
    "    #create_report(df).show_browser()\n",
    "    \n",
    "    ######## Klib ###########\n",
    "    klib.missingval_plot(df)\n",
    "    df= klib.data_cleaning(df)\n",
    "    klib.corr_plot(df, annot=False)\n",
    "    klib.corr_plot(df, split='pos', annot=False)\n",
    "    klib.corr_plot(df, split='neg', annot=False)\n",
    "    klib.corr_plot(df, target='DELTAKERSTATUSKODE')\n",
    "    klib.corr_mat(df)\n",
    "    klib.dist_plot(df['DELTAKERTYPEKODE'])\n",
    "    klib.cat_plot(df, figsize=(50,15))\n",
    "    plot = klib.corr_plot(df, annot=False, figsize=(12,10))\n",
    "    plot.figure.savefig('figure.pdf')\n",
    "    \n",
    "    ########## dabl ###########\n",
    "    dabl.plot(df, target_col=\"Survived\")\n",
    "    \n",
    "    ######### datatile\n",
    "    dfs = DataFrameSummary(df)\n",
    "    dfs.summary()"
   ]
  },
  {
   "cell_type": "code",
   "execution_count": null,
   "id": "a8e9fdd7-5fc9-4294-b2db-40774212d949",
   "metadata": {},
   "outputs": [],
   "source": []
  },
  {
   "cell_type": "code",
   "execution_count": null,
   "id": "28997533-171e-40bf-9d9f-acada80d2f6c",
   "metadata": {},
   "outputs": [],
   "source": []
  }
 ],
 "metadata": {
  "kernelspec": {
   "display_name": "Python 3 (ipykernel)",
   "language": "python",
   "name": "python3"
  },
  "language_info": {
   "codemirror_mode": {
    "name": "ipython",
    "version": 3
   },
   "file_extension": ".py",
   "mimetype": "text/x-python",
   "name": "python",
   "nbconvert_exporter": "python",
   "pygments_lexer": "ipython3",
   "version": "3.9.12"
  }
 },
 "nbformat": 4,
 "nbformat_minor": 5
}
